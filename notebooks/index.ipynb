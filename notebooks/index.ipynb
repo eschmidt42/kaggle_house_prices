{
 "cells": [
  {
   "cell_type": "markdown",
   "metadata": {},
   "source": [
    "# Kaggle house prices with fastai v2\n",
    "> Kaggling with fastai2"
   ]
  },
  {
   "cell_type": "code",
   "execution_count": null,
   "metadata": {},
   "outputs": [],
   "source": [
    "#hide\n",
    "from src.utils import *\n",
    "from src.preprocessing import *\n",
    "from src.modelling import *"
   ]
  },
  {
   "cell_type": "markdown",
   "metadata": {},
   "source": [
    "## How to use"
   ]
  },
  {
   "cell_type": "code",
   "execution_count": null,
   "metadata": {},
   "outputs": [],
   "source": []
  }
 ],
 "metadata": {
  "kernelspec": {
   "display_name": "Python [conda env:py37_fastai2]",
   "language": "python",
   "name": "conda-env-py37_fastai2-py"
  }
 },
 "nbformat": 4,
 "nbformat_minor": 2
}
